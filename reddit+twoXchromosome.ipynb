{
 "cells": [
  {
   "cell_type": "code",
   "execution_count": null,
   "metadata": {
    "collapsed": true
   },
   "outputs": [],
   "source": [
    "#A test of scraping a twoXchromosomes subreddit - can we see deleted comments?"
   ]
  },
  {
   "cell_type": "code",
   "execution_count": 10,
   "metadata": {
    "collapsed": true
   },
   "outputs": [],
   "source": [
    "from IPython.display import Image"
   ]
  },
  {
   "cell_type": "code",
   "execution_count": 11,
   "metadata": {},
   "outputs": [
    {
     "data": {
      "image/png": "[encoded data removed]",
      "text/plain": [
       "<IPython.core.display.Image object>"
      ]
     },
     "execution_count": 11,
     "metadata": {},
     "output_type": "execute_result"
    }
   ],
   "source": [
    "Image(filename='2x.png') "
   ]
  },
  {
   "cell_type": "code",
   "execution_count": 17,
   "metadata": {},
   "outputs": [
    {
     "data": {
      "text/plain": [
       "'C:\\\\Users\\\\Sarah'"
      ]
     },
     "execution_count": 17,
     "metadata": {},
     "output_type": "execute_result"
    }
   ],
   "source": [
    "import os\n",
    "os.getcwd()\n",
    "#Thanks stackoverflow peeps.\n",
    "#https://stackoverflow.com/questions/15514593/importerror-no-module-named-when-trying-to-run-python-script"
   ]
  },
  {
   "cell_type": "code",
   "execution_count": 2,
   "metadata": {
    "collapsed": true
   },
   "outputs": [],
   "source": [
    "import urllib.parse\n",
    "import requests\n",
    "import json"
   ]
  },
  {
   "cell_type": "code",
   "execution_count": 6,
   "metadata": {},
   "outputs": [
    {
     "name": "stdout",
     "output_type": "stream",
     "text": [
      "/r/TwoXChromosomes is looking for new moderators\n",
      "I'm a body positive activist, photographer and author of The Honest Body Project. I share portraits and stories from women on topics like body image, depression, loss, special needs, abuse and more, AMA!\n",
      "Me too, but I'm fat.\n",
      "Reporter says NYT killed her 2004 expose on Weinstein after he visited editors\n",
      "Olympic gymnast McKayla Maroney says team doctor repeatedly molested her\n",
      "To all the girls out there in an abusive relationship...\n",
      "The video chat with my son went well!\n",
      "Feeling sad from 'me too' posts\n",
      "My friend (36F) molested my best friend (25M) while I was asleep.\n",
      "I'm so embarrassed I cried at work. Now I'm at home.\n",
      "When power protects: In Hollywood and politics, a history of hiding abuse\n",
      "PSA: It's ok to do your own thing and put yourself first\n",
      "Comparing what men and women do to prevent yourself from being sexually assaulted\n",
      "I wasn't going to do this, but I've had enough...\n",
      "I have no idea how to be single\n",
      "Metropolitan Opera Slashes Actors' Pay If They Wear Bras Instead Of Performing Topless\n",
      "How do you guys deal with all the internet hate?\n",
      "This \"Me Too\" movement is bringing up shitty memories from when I told my mom about my rape. She wanted to stay friends with him.\n",
      "#Metoo. Afraid to post anywhere else.\n",
      "Photographer captures women's 'orgasm faces' in intimate photo series [NSFW]\n",
      "Did anyone else get a response from an abuser after posting #metoo?\n",
      "Me too, and it was a woman that attacked me.\n",
      "I had sex and now I'm worried.. Inexperienced college girl looking for advice.\n",
      "Jennifer Lawrence’s Harrowing Story Proves Hollywood Sexual Harassment Goes Beyond Harvey Weinstein\n",
      "How do you make the gym enjoyable?\n",
      "My suicidal, alcoholic mother just texted me and said she is on her way to my house with my aunt and grandmother.\n",
      "Do all girls feel this way about their safety?\n"
     ]
    }
   ],
   "source": [
    "subreddit = 'TwoXChromosomes'\n",
    "\n",
    "r = requests.get(\n",
    "    'http://www.reddit.com/r/{}.json'.format(subreddit),\n",
    "    headers={'user-agent': 'Mozilla/5.0'}\n",
    ")\n",
    "\n",
    "# view structure of an individual post\n",
    "# print(json.dumps(r.json()['data']['children'][0]))\n",
    "\n",
    "for post in r.json()['data']['children']:\n",
    "    print(post['data']['title'])\n",
    "    \n",
    "#Source: https://www.reddit.com/r/learnpython/comments/574pn5/anyone_have_a_reddit_scraper/"
   ]
  },
  {
   "cell_type": "code",
   "execution_count": null,
   "metadata": {
    "collapsed": true
   },
   "outputs": [],
   "source": []
  }
 ],
 "metadata": {
  "kernelspec": {
   "display_name": "Python 3",
   "language": "python",
   "name": "python3"
  },
  "language_info": {
   "codemirror_mode": {
    "name": "ipython",
    "version": 3
   },
   "file_extension": ".py",
   "mimetype": "text/x-python",
   "name": "python",
   "nbconvert_exporter": "python",
   "pygments_lexer": "ipython3",
   "version": "3.6.2"
  }
 },
 "nbformat": 4,
 "nbformat_minor": 2
}
